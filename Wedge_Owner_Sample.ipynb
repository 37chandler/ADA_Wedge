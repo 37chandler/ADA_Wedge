{
 "cells": [
  {
   "cell_type": "code",
   "execution_count": null,
   "metadata": {},
   "outputs": [],
   "source": [
    "#import python extensions and install pandas GBQ reader#\n",
    "from google.cloud import bigquery\n",
    "from google.oauth2 import service_account\n",
    "import pandas as pd\n",
    "import numpy as np\n",
    "import sys\n",
    "!pip install pandas-gbq -U"
   ]
  },
  {
   "cell_type": "code",
   "execution_count": null,
   "metadata": {},
   "outputs": [],
   "source": [
    "# provide credential, service file, and client#\n",
    "service_path = \"/Users/peterkirgis/Downloads/\"\n",
    "service_file = 'wedge-project-peterkirgis-1e7b528def57.json' # this is your authentication information  \n",
    "gbq_proj_id = 'wedge-project-peterkirgis'  # change this to your project_id\n",
    "gbq_dataset_id = 'WedgeData2' # and change this to your data set ID\n",
    "\n",
    "private_key = service_path + service_file\n",
    "\n",
    "credentials = service_account.Credentials.from_service_account_file(service_path + service_file)\n",
    "\n",
    "client = bigquery.Client(credentials = credentials, project=gbq_proj_id)"
   ]
  },
  {
   "cell_type": "code",
   "execution_count": null,
   "metadata": {},
   "outputs": [],
   "source": [
    "#run query against transaction records that takes all data from 200 owners#\n",
    "ownersample = \"\"\"SELECT\n",
    "              *, card_no as Owner\n",
    "         FROM  \n",
    "             `wedge-project-peterkirgis.WedgeData2.*`\n",
    "         WHERE card_no between 19800 and 20000\n",
    "         ORDER BY card_no asc\"\"\"\n",
    "table_id = \"wedge-project-peterkirgis.WedgeData.owner_sample\"\n",
    "\n",
    "job_config = bigquery.QueryJobConfig(destination=table_id)\n",
    "\n",
    "# And we execute queries with `client.query`\n",
    "query_job = client.query(\n",
    "        ownersample,\n",
    "        job_config=job_config)\n",
    "query_job.result()"
   ]
  },
  {
   "cell_type": "code",
   "execution_count": null,
   "metadata": {},
   "outputs": [],
   "source": [
    "#create DataFrame to read query output#\n",
    "df = pd.read_gbq(ownersample, project_id=gbq_proj_id)"
   ]
  },
  {
   "cell_type": "code",
   "execution_count": null,
   "metadata": {},
   "outputs": [],
   "source": [
    "#write DataFrame to local textfile#\n",
    "df.to_csv('owner_sample', sep = \",\", header = True, index = False)"
   ]
  }
 ],
 "metadata": {
  "kernelspec": {
   "display_name": "Python 3",
   "language": "python",
   "name": "python3"
  },
  "language_info": {
   "codemirror_mode": {
    "name": "ipython",
    "version": 3
   },
   "file_extension": ".py",
   "mimetype": "text/x-python",
   "name": "python",
   "nbconvert_exporter": "python",
   "pygments_lexer": "ipython3",
   "version": "3.8.3"
  }
 },
 "nbformat": 4,
 "nbformat_minor": 4
}
