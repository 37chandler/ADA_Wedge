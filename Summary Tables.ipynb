{
 "cells": [
  {
   "cell_type": "code",
   "execution_count": 41,
   "metadata": {},
   "outputs": [],
   "source": [
    "#import python extensions\n",
    "from google.cloud import bigquery\n",
    "from google.oauth2 import service_account\n",
    "import pandas as pd\n",
    "import sqlite3"
   ]
  },
  {
   "cell_type": "code",
   "execution_count": 42,
   "metadata": {},
   "outputs": [],
   "source": [
    "#provide credetial, service file, and client\n",
    "service_path = \"/Users/peterkirgis/Downloads/\"\n",
    "service_file = 'wedge-project-peterkirgis-1e7b528def57.json' \n",
    "gbq_proj_id = 'wedge-project-peterkirgis'  \n",
    "gbq_dataset_id = 'WedgeData2' \n",
    "\n",
    "private_key = service_path + service_file\n",
    "\n",
    "credentials = service_account.Credentials.from_service_account_file(service_path + service_file)\n",
    "\n",
    "client = bigquery.Client(credentials = credentials, project=gbq_proj_id)"
   ]
  },
  {
   "cell_type": "code",
   "execution_count": 43,
   "metadata": {},
   "outputs": [
    {
     "name": "stderr",
     "output_type": "stream",
     "text": [
      "Downloading: 100%|██████████| 38828/38828 [00:03<00:00, 9780.45rows/s]\n"
     ]
    }
   ],
   "source": [
    "# run first query for sales by date by hour, read as DataFrame, write to textfile#\n",
    "sales_date_hour = \"\"\"SELECT (EXTRACT(date FROM datetime)) AS Date,\n",
    "    (EXTRACT(hour FROM datetime)) AS Hour,\n",
    "    SUM(total) AS Sales,\n",
    "    COUNT(DISTINCT(Date(datetime) || register_no || emp_no || trans_no)) AS Transactions,\n",
    "    SUM(CASE WHEN(trans_status = 'V' OR trans_status = 'R') THEN -1 ELSE 1 END) as Items\n",
    "    FROM `wedge-project-peterkirgis.WedgeData2.*` \n",
    "    WHERE card_no != 3\n",
    "    AND department != 0\n",
    "    AND department != 15\n",
    "    AND department != 20\n",
    "    AND upc != '0'\n",
    "    AND trans_status != 'M'\n",
    "    AND trans_status != 'C'\n",
    "    AND trans_status != 'J'\n",
    "    AND (trans_status = ''\n",
    "    OR trans_status = ' '\n",
    "    OR trans_status =  'V'\n",
    "    OR trans_status = 'R')\n",
    "    GROUP BY Date, Hour\n",
    "    ORDER BY Date, Hour\"\"\"\n",
    "        \n",
    "df = pd.read_gbq(sales_date_hour, project_id=gbq_proj_id)\n",
    "df.to_csv('Summaryfiles/sales_date_hour', sep = \",\", header = True, index = False)"
   ]
  },
  {
   "cell_type": "code",
   "execution_count": 44,
   "metadata": {},
   "outputs": [
    {
     "name": "stderr",
     "output_type": "stream",
     "text": [
      "Downloading: 100%|██████████| 808797/808797 [00:39<00:00, 20588.60rows/s]\n"
     ]
    }
   ],
   "source": [
    "# run second query for sales by owner by year by month, read as DataFrame, write to textfile#\n",
    "sales_owner_year_month = \"\"\"SELECT EXTRACT(year FROM datetime) as Year, \n",
    "        EXTRACT(month FROM datetime) as Month, \n",
    "        card_no as Owner,\n",
    "        SUM(total) as total_sales, \n",
    "        COUNT(DISTINCT(Date(datetime) || register_no || emp_no || trans_no)) AS Transactions,\n",
    "        SUM(CASE WHEN(trans_status = 'V' OR trans_status = 'R') THEN -1 ELSE 1 END) as Items\n",
    "        FROM `wedge-project-peterkirgis.WedgeData2.*` \n",
    "        WHERE card_no != 3\n",
    "        AND department != 0\n",
    "        AND department != 15\n",
    "        AND department != 20\n",
    "        AND upc != '0'\n",
    "        AND trans_status != 'M'\n",
    "        AND trans_status != 'C'\n",
    "        AND trans_status != 'J'\n",
    "        AND (trans_status = ''\n",
    "        OR trans_status = ' '\n",
    "        OR trans_status =  'V'\n",
    "        OR trans_status = 'R')\n",
    "        GROUP BY Year, Month, card_no\n",
    "        ORDER BY Year, Month, card_no\"\"\"\n",
    "        \n",
    "df = pd.read_gbq(sales_owner_year_month, project_id=gbq_proj_id)\n",
    "df.to_csv('Summaryfiles/sales_owner_year_month', sep = \",\", header = True, index = False)"
   ]
  },
  {
   "cell_type": "code",
   "execution_count": 45,
   "metadata": {},
   "outputs": [
    {
     "name": "stderr",
     "output_type": "stream",
     "text": [
      "Downloading: 100%|██████████| 1130383/1130383 [01:26<00:00, 13130.23rows/s]\n"
     ]
    }
   ],
   "source": [
    "# run third query for sales by description by year by month, read as DataFrame, write to textfile#\n",
    "sales_description_year_month = \"\"\"SELECT EXTRACT(year FROM datetime) as Year,\n",
    "        EXTRACT(month FROM datetime) as Month, \n",
    "        upc as product_code, \n",
    "        description, \n",
    "        department, \n",
    "        CASE department \n",
    "        WHEN 1 THEN 'PACKAGED GROCERY' \n",
    "        WHEN 2 THEN 'PRODUCE' \n",
    "        WHEN 3 THEN 'BULK' \n",
    "        WHEN 4 THEN 'REF GROCERY' \n",
    "        WHEN 5 THEN 'CHEESE' \n",
    "        WHEN 6 THEN 'FROZEN' \n",
    "        WHEN 7 THEN 'BREAD' \n",
    "        WHEN 8 THEN 'DELI' \n",
    "        WHEN 9 THEN 'GEN MERCH' \n",
    "        WHEN 10 THEN 'SUPPLEMENTS' \n",
    "        WHEN 11 THEN 'PERSONAL CARE' \n",
    "        WHEN 12 THEN 'HERBS&SPICES' \n",
    "        WHEN 13 THEN 'MEAT' \n",
    "        WHEN 14 THEN 'JUICE BAR' \n",
    "        WHEN 16 THEN 'FISH&SEAFOOD' \n",
    "        WHEN 17 THEN 'BAKEHOUSE' \n",
    "        WHEN 18 THEN 'FLOWERS' \n",
    "        WHEN 19 THEN 'WEDGEWORLDWIDE' \n",
    "        WHEN 21 THEN 'CATERING' \n",
    "        WHEN 22 THEN 'BEER&WINE' END AS department_name,\n",
    "        SUM(total) as total_sales, \n",
    "        COUNT(DISTINCT(Date(datetime) || register_no || emp_no || trans_no)) AS Transactions,\n",
    "        SUM(CASE WHEN(trans_status = 'V' OR trans_status = 'R') THEN -1 ELSE 1 END) as Items\n",
    "        FROM `wedge-project-peterkirgis.WedgeData2.*` \n",
    "        WHERE card_no != 3\n",
    "        AND department != 0\n",
    "        AND department != 15\n",
    "        AND department != 20\n",
    "        AND upc != '0'\n",
    "        AND trans_status != 'M'\n",
    "        AND trans_status != 'C'\n",
    "        AND trans_status != 'J'\n",
    "        AND (trans_status = ''\n",
    "        OR trans_status = ' '\n",
    "        OR trans_status =  'V'\n",
    "        OR trans_status = 'R')\n",
    "        GROUP BY Year, Month, upc, description, department\n",
    "        ORDER BY Year, Month, upc, description, department\"\"\"\n",
    "        \n",
    "df = pd.read_gbq(sales_description_year_month, project_id=gbq_proj_id)\n",
    "df.to_csv('Summaryfiles/sales_description_year_month', sep = \",\", header = True, index = False)"
   ]
  },
  {
   "cell_type": "code",
   "execution_count": 46,
   "metadata": {},
   "outputs": [],
   "source": [
    "#create sql database\n",
    "db = sqlite3.connect(\"Wedge_Sum_Files.db\")\n",
    "cur = db.cursor()"
   ]
  },
  {
   "cell_type": "code",
   "execution_count": 47,
   "metadata": {},
   "outputs": [
    {
     "data": {
      "text/plain": [
       "<sqlite3.Cursor at 0x7f7fda225ea0>"
      ]
     },
     "execution_count": 47,
     "metadata": {},
     "output_type": "execute_result"
    }
   ],
   "source": [
    "#create schema for first query\n",
    "cur.execute('''DROP TABLE IF EXISTS sales_date_hour''')\n",
    "cur.execute('''CREATE TABLE sales_date_hour (\n",
    "    Date DATE,\n",
    "    Hour INTEGER,\n",
    "    TotalSales INTEGER,\n",
    "    Transactions INTEGER,\n",
    "    Items INTEGER)''')"
   ]
  },
  {
   "cell_type": "code",
   "execution_count": 48,
   "metadata": {},
   "outputs": [],
   "source": [
    "#import first query from textfile\n",
    "with open('Summaryfiles/sales_date_hour','r', encoding=\"Latin-1\") as ifile :\n",
    "    for idx, line in enumerate(ifile) :\n",
    "        line = line.strip().split(\",\")\n",
    "        cur.execute('''\n",
    "            INSERT INTO sales_date_hour (Date, Hour, TotalSales, Transactions, Items) VALUES (?,?,?,?,?)''', line)\n",
    "db.commit()"
   ]
  },
  {
   "cell_type": "code",
   "execution_count": 49,
   "metadata": {},
   "outputs": [
    {
     "data": {
      "text/plain": [
       "<sqlite3.Cursor at 0x7f7fda225ea0>"
      ]
     },
     "execution_count": 49,
     "metadata": {},
     "output_type": "execute_result"
    }
   ],
   "source": [
    "#create schema for second query\n",
    "cur.execute('''DROP TABLE IF EXISTS sales_owner_year_month''')\n",
    "cur.execute('''CREATE TABLE sales_owner_year_month (\n",
    "    Year INTEGER,\n",
    "    Month INTEGER,\n",
    "    Owner INTEGER,\n",
    "    TotalSales INTEGER,\n",
    "    Transactions INTEGER,\n",
    "    Items INTEGER)''')"
   ]
  },
  {
   "cell_type": "code",
   "execution_count": 50,
   "metadata": {},
   "outputs": [],
   "source": [
    "#import second query from textfile\n",
    "with open('Summaryfiles/sales_owner_year_month','r', encoding=\"Latin-1\") as ifile :\n",
    "    for idx, line in enumerate(ifile) :\n",
    "        line = line.strip().split(\",\")\n",
    "        cur.execute('''\n",
    "            INSERT INTO sales_owner_year_month (Year, Month, Owner, TotalSales, Transactions, Items) VALUES (?,?,?,?,?,?)''', line)\n",
    "db.commit()"
   ]
  },
  {
   "cell_type": "code",
   "execution_count": 51,
   "metadata": {},
   "outputs": [
    {
     "data": {
      "text/plain": [
       "<sqlite3.Cursor at 0x7f7fda225ea0>"
      ]
     },
     "execution_count": 51,
     "metadata": {},
     "output_type": "execute_result"
    }
   ],
   "source": [
    "#create schema for third table\n",
    "cur.execute('''DROP TABLE IF EXISTS sales_description_year_month''')\n",
    "cur.execute('''CREATE TABLE sales_description_year_month (\n",
    "    Year INTEGER,\n",
    "    Month INTEGER,\n",
    "    ProductCode VARCHAR,\n",
    "    Description VARCHAR,\n",
    "    Department INTEGER,\n",
    "    DepartmentName VARCHAR,\n",
    "    TotalSales INTEGER,\n",
    "    Transactions INTEGER,\n",
    "    Items INTEGER)''')"
   ]
  },
  {
   "cell_type": "code",
   "execution_count": 52,
   "metadata": {},
   "outputs": [],
   "source": [
    "#import third table from textfile\n",
    "with open('Summaryfiles/sales_description_year_month','r', encoding=\"Latin-1\") as ifile :\n",
    "    for idx, line in enumerate(ifile) :\n",
    "        line = line.strip().split(\",\")\n",
    "        cur.execute('''\n",
    "            INSERT INTO sales_description_year_month (Year, Month, ProductCode, Description, Department, DepartmentName, TotalSales, Transactions, Items) VALUES (?,?,?,?,?,?,?,?,?)''', line)\n",
    "db.commit()"
   ]
  }
 ],
 "metadata": {
  "kernelspec": {
   "display_name": "Python 3",
   "language": "python",
   "name": "python3"
  },
  "language_info": {
   "codemirror_mode": {
    "name": "ipython",
    "version": 3
   },
   "file_extension": ".py",
   "mimetype": "text/x-python",
   "name": "python",
   "nbconvert_exporter": "python",
   "pygments_lexer": "ipython3",
   "version": "3.8.3"
  }
 },
 "nbformat": 4,
 "nbformat_minor": 4
}
